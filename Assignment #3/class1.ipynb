{
 "cells": [
  {
   "cell_type": "code",
   "execution_count": 9,
   "id": "8ce55760",
   "metadata": {},
   "outputs": [
    {
     "name": "stdout",
     "output_type": "stream",
     "text": [
      "Twinkle,twinkle little star,\n",
      " \tHow I wonder what you are\n",
      "\tLike a diamond in the sky.\n",
      "Twinkle, twinkle, little star,\n",
      "    How I wonder what you are\n"
     ]
    }
   ],
   "source": [
    "#Write a Python program to print the following string in a specific format (see the\n",
    "#output).\n",
    "\n",
    "print(\"Twinkle,twinkle little star,\\n \\tHow I wonder what you are\\n\\tLike a diamond in the sky.\\nTwinkle, twinkle, little star,\\n    How I wonder what you are\")\n"
   ]
  },
  {
   "cell_type": "code",
   "execution_count": 12,
   "id": "bee3688d",
   "metadata": {},
   "outputs": [
    {
     "name": "stdout",
     "output_type": "stream",
     "text": [
      "python version\n",
      "3.8.8 (default, Apr 13 2021, 15:08:03) [MSC v.1916 64 bit (AMD64)]\n",
      "version.information\n",
      "sys.version_info(major=3, minor=8, micro=8, releaselevel='final', serial=0)\n"
     ]
    }
   ],
   "source": [
    "#Write a Python program to get the Python version you are using\n",
    "\n",
    "print(\"python version\")\n",
    "print(sys.version)\n",
    "print(\"version.information\")\n",
    "print(sys.version_info)"
   ]
  },
  {
   "cell_type": "code",
   "execution_count": 19,
   "id": "43b69f53",
   "metadata": {},
   "outputs": [
    {
     "name": "stdout",
     "output_type": "stream",
     "text": [
      "current date and time\n",
      "14:33:33  24-33-2021\n"
     ]
    }
   ],
   "source": [
    "#Write a Python program to display the current date and time.\n",
    "\n",
    "now=datetime.datetime.now()\n",
    "print(\"current date and time\")\n",
    "print(now.strftime(\"%H:%M:%S  %d-%M-%Y\"))"
   ]
  },
  {
   "cell_type": "code",
   "execution_count": 23,
   "id": "ead2b8aa",
   "metadata": {},
   "outputs": [
    {
     "name": "stdout",
     "output_type": "stream",
     "text": [
      "input the radius of the circle :5\n",
      "yhe area of the circle with radius5.0 is 78.53981633974483\n"
     ]
    }
   ],
   "source": [
    "#Write a Python program which accepts the radius of a circle from the user and compute\n",
    "#the area.\n",
    "from math import pi\n",
    "R=float(input(\"input the radius of the circle :\"))\n",
    "print(\"yhe area of the circle with radius\"+str(R)+ \" is \" + str(pi * R**2))"
   ]
  },
  {
   "cell_type": "code",
   "execution_count": 25,
   "id": "339aad9c",
   "metadata": {},
   "outputs": [
    {
     "name": "stdout",
     "output_type": "stream",
     "text": [
      "enter your first nameDaniyal\n",
      "enter your last nameRaza\n",
      "hello Raza Daniyal nice to meet you\n"
     ]
    }
   ],
   "source": [
    "#Write a Python program which accepts the user's first and last name and print them in\n",
    "#reverse order with a space between them.\n",
    "f_name= input(\"enter your first name\")\n",
    "l_name= input(\"enter your last name\")\n",
    "print(\"hello \"+ l_name +\" \"+ f_name+ \" nice to meet you\")"
   ]
  },
  {
   "cell_type": "code",
   "execution_count": 30,
   "id": "17acdb7b",
   "metadata": {},
   "outputs": [
    {
     "name": "stdout",
     "output_type": "stream",
     "text": [
      "Enter the first number: 5\n",
      "Enter the second number 15\n",
      "sum 20\n"
     ]
    }
   ],
   "source": [
    "#Write a python program which takes two inputs from user and print them addition\n",
    "num1=int(input(\"Enter the first number: \"))\n",
    "num2=int(input(\"Enter the second number \"))\n",
    "sum=num1+num2;\n",
    "print(\"sum\",sum);"
   ]
  },
  {
   "cell_type": "code",
   "execution_count": 53,
   "id": "de304f61",
   "metadata": {},
   "outputs": [
    {
     "name": "stdout",
     "output_type": "stream",
     "text": [
      "Enter the first subject marks: 66\n",
      "Enter the second subject marks: 67\n",
      "Enter the third subject marks: 72\n",
      "Enter the four subject marks: 66\n",
      "Enter the fifth subject marks: 76\n",
      "your percentage is  69.4\n",
      "your grade is C\n"
     ]
    }
   ],
   "source": [
    "#Write a program which takes 5 inputs from user for different subject’s marks, total it\n",
    "#and generate mark sheet using grades?\n",
    "subj1=int(input(\"Enter the first subject marks: \"))\n",
    "subj2=int(input(\"Enter the second subject marks: \"))\n",
    "subj3=int(input(\"Enter the third subject marks: \"))\n",
    "subj4=int(input(\"Enter the four subject marks: \"))\n",
    "subj5=int(input(\"Enter the fifth subject marks: \"))\n",
    "total=subj1+subj2+subj3+subj4+subj5;\n",
    "percentage=total*100 / 500; \n",
    "print(\"your percentage is \",percentage)\n",
    "\n",
    "if percentage <=100 and percentage >= 90:\n",
    "    print(\"you grade is A+\");\n",
    "elif percentage < 90 and percentage >= 80:\n",
    "    print(\"your grade is A\");\n",
    "elif percentage < 80 and percentage >= 70:\n",
    "    print(\"your grade is B\");\n",
    "elif percentage < 70 and percentage >=60:\n",
    "    print(\"your grade is C\");\n",
    "elif percentage < 60 and percentage >= 50:\n",
    "    print(\"your grade is D\");\n",
    "elif percentage < 50 and percentage >=40:\n",
    "    print(\"your grade is E\");\n",
    "elif percentage < 40 and percentage >=1:\n",
    "    print(\"Sorry you are fail try next time sir\");\n",
    "else:\n",
    "    print(\"you enter inappropriate numbers\");"
   ]
  },
  {
   "cell_type": "code",
   "execution_count": 60,
   "id": "9cce172c",
   "metadata": {},
   "outputs": [
    {
     "name": "stdout",
     "output_type": "stream",
     "text": [
      "Enter a number6\n"
     ]
    }
   ],
   "source": [
    "#Write a program which take input from user and identify that the given number is even\n",
    "#or odd?\n",
    "num=int(input(\"Enter a number\"));\n",
    "mod=num % 2\n",
    "if mod > 0:\n",
    "    print(\"this number is even\")\n",
    "else:\n",
    "        (\"this number is odd\")"
   ]
  },
  {
   "cell_type": "code",
   "execution_count": 61,
   "id": "013f280f",
   "metadata": {},
   "outputs": [
    {
     "name": "stdout",
     "output_type": "stream",
     "text": [
      "5\n"
     ]
    }
   ],
   "source": [
    "#Write a program which print the length of the list?\n",
    "in_list=['java','python','flutter','dart','gjango']\n",
    "size=len(in_list);\n",
    "print(size)"
   ]
  },
  {
   "cell_type": "code",
   "execution_count": 62,
   "id": "3c62596c",
   "metadata": {},
   "outputs": [
    {
     "name": "stdout",
     "output_type": "stream",
     "text": [
      "2\n"
     ]
    }
   ],
   "source": [
    "#Write a Python program to sum all the numeric items in a list?\n",
    "def max_num_in_list( list ):\n",
    "    max = list[ 0 ]\n",
    "    for a in list:\n",
    "        if a > max:\n",
    "            max = a\n",
    "    return max\n",
    "print(max_num_in_list([1, 2, -8, 0]))"
   ]
  },
  {
   "cell_type": "code",
   "execution_count": null,
   "id": "2801e746",
   "metadata": {},
   "outputs": [],
   "source": []
  }
 ],
 "metadata": {
  "kernelspec": {
   "display_name": "Python 3",
   "language": "python",
   "name": "python3"
  }
 },
 "nbformat": 4,
 "nbformat_minor": 5
}
